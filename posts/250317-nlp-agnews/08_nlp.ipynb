{
 "cells": [
  {
   "cell_type": "raw",
   "id": "bfe3193d",
   "metadata": {
    "vscode": {
     "languageId": "raw"
    }
   },
   "source": [
    "---\n",
    "title: \"ULMFiT on AG News: Fine-Tuning a Wikipedia-Pretrained Model\"\n",
    "author: \"Lindy Rauchenstein\"\n",
    "date: \"2025-03-18\"\n",
    "categories: [code]\n",
    "image: \"nlp-terms.jpeg\"\n",
    "toc: true\n",
    "warning: false\n",
    "format:\n",
    "  html:\n",
    "    code-fold: false\n",
    "    code-tools: false\n",
    "---"
   ]
  },
  {
   "cell_type": "markdown",
   "id": "620433fb",
   "metadata": {},
   "source": [
    "In this project, we apply a powerful approach known as Universal Language Model Fine-tuning (ULMFiT). We’ll start from a language model that’s already been trained on large amounts of Wikipedia text, then adapt it (“fine-tune”) to the AG News corpus. After that, we’ll build a text classifier on top of our freshly fine-tuned encoder. The result is a model that can assign news articles into one of four categories—World, Sports, Business, or Sci/Tech."
   ]
  },
  {
   "cell_type": "markdown",
   "id": "20382bb7-3917-474c-b4be-817e8a8b662e",
   "metadata": {},
   "source": [
    "## Preplanning\n",
    "Before we dive in, let’s outline our overall plan:\n",
    "\n",
    "* **Objective:** Create an NLP model that classifies AG News articles, taking advantage of an existing Wikipedia-pretrained model.\n",
    "* **Dataset:** Use the AG News corpus, which features four main classes of news stories.\n",
    "* **Strategy:**\n",
    "    + Fine-tune the Wikipedia-trained language model on AG News text. This helps the model learn domain-specific nuances (news vocabulary, style, etc.).\n",
    "    + Use the fine-tuned model as an encoder for classification. Train a classifier head on top of it to predict among four news categories.\n",
    "* **Tools:** We’ll rely on the fastai library’s text APIs, which streamline ULMFiT, letting us focus on the conceptual side.\n",
    "\n",
    "With that frame in mind, let’s start coding!\n",
    "\n",
    "Here, we download and extract the AG News corpus. The dataset conveniently arrives in CSV format with clearly designated train and test files."
   ]
  },
  {
   "cell_type": "code",
   "execution_count": null,
   "id": "f0fb29a7-d28a-4839-9e98-17c01f2333b4",
   "metadata": {},
   "outputs": [],
   "source": [
    "from fastai.text.all import *\n",
    "path = untar_data(URLs.AG_NEWS)"
   ]
  },
  {
   "cell_type": "code",
   "execution_count": 3,
   "id": "1381f8a8-ae6c-467c-89fb-2a8555cb8c3f",
   "metadata": {},
   "outputs": [
    {
     "data": {
      "text/plain": [
       "(#4) [Path('/root/.fastai/data/ag_news_csv/test.csv'),Path('/root/.fastai/data/ag_news_csv/readme.txt'),Path('/root/.fastai/data/ag_news_csv/classes.txt'),Path('/root/.fastai/data/ag_news_csv/train.csv')]"
      ]
     },
     "execution_count": 3,
     "metadata": {},
     "output_type": "execute_result"
    }
   ],
   "source": [
    "path.ls()"
   ]
  },
  {
   "cell_type": "code",
   "execution_count": 4,
   "id": "6d92c9df-7f2c-4122-93fb-378864392bd5",
   "metadata": {},
   "outputs": [
    {
     "name": "stdout",
     "output_type": "stream",
     "text": [
      "AG's News Topic Classification Dataset\n",
      "\n",
      "Version 3, Updated 09/09/2015\n",
      "\n",
      "\n",
      "ORIGIN\n",
      "\n",
      "AG is a collection of more than 1 million news articles. News articles have been gathered from more than 2000  news sources by ComeToMyHead in more than 1 year of activity. ComeToMyHead is an academic news search engine which has been running since July, 2004. The dataset is provided by the academic comunity for research purposes in data mining (clustering, classification, etc), information retrieval (ranking, search, etc), xml, data compression, data streaming, and any other non-commercial activity. For more information, please refer to the link http://www.di.unipi.it/~gulli/AG_corpus_of_news_articles.html .\n",
      "\n",
      "The AG's news topic classification dataset is constructed by Xiang Zhang (xiang.zhang@nyu.edu) from the dataset above. It is used as a text classification benchmark in the following paper: Xiang Zhang, Junbo Zhao, Yann LeCun. Character-level Convolutional Networks for Text Classification. Advances in Neural Information Processing Systems 28 (NIPS 2015).\n",
      "\n",
      "\n",
      "DESCRIPTION\n",
      "\n",
      "The AG's news topic classification dataset is constructed by choosing 4 largest classes from the original corpus. Each class contains 30,000 training samples and 1,900 testing samples. The total number of training samples is 120,000 and testing 7,600.\n",
      "\n",
      "The file classes.txt contains a list of classes corresponding to each label.\n",
      "\n",
      "The files train.csv and test.csv contain all the training samples as comma-sparated values. There are 3 columns in them, corresponding to class index (1 to 4), title and description. The title and description are escaped using double quotes (\"), and any internal double quote is escaped by 2 double quotes (\"\"). New lines are escaped by a backslash followed with an \"n\" character, that is \"\\n\".\n"
     ]
    }
   ],
   "source": [
    "!cat /root/.fastai/data/ag_news_csv/readme.txt"
   ]
  },
  {
   "cell_type": "code",
   "execution_count": 5,
   "id": "83a26f5a-d16d-47cf-b4cb-f70ff39d5b5d",
   "metadata": {},
   "outputs": [
    {
     "name": "stdout",
     "output_type": "stream",
     "text": [
      "World\n",
      "Sports\n",
      "Business\n",
      "Sci/Tech\n"
     ]
    }
   ],
   "source": [
    "!cat /root/.fastai/data/ag_news_csv/classes.txt"
   ]
  },
  {
   "cell_type": "markdown",
   "id": "90203682-f867-4041-8a33-d59953c58c78",
   "metadata": {},
   "source": [
    "# Training the Language Model\n",
    "## Inspect the Dataset and Get the Class Labels\n",
    "\n",
    "Because the data is in CSV files, we’ll read them using pandas. We combine train/test to create a “grand corpus” that we can use to fine-tune the language model. The variable `df_lm` now contains the text from both splits— perfect for language modeling."
   ]
  },
  {
   "cell_type": "code",
   "execution_count": 6,
   "id": "851e5d1a-b4d3-4e7f-9ebd-8eab5109ae02",
   "metadata": {},
   "outputs": [],
   "source": [
    "col_names = [\"class_index\", \"title\", \"description\"]\n",
    "df_train = pd.read_csv(path/'train.csv', header=None, names=col_names, low_memory=False)\n",
    "df_valid = pd.read_csv(path/'test.csv', header=None, names=col_names, low_memory=False)\n",
    "df_lm = pd.concat([df_train, df_valid], axis=0, ignore_index=True)"
   ]
  },
  {
   "cell_type": "code",
   "execution_count": 7,
   "id": "f8312975-9111-43f5-bf9c-3082daba5c47",
   "metadata": {},
   "outputs": [
    {
     "data": {
      "text/html": [
       "\n",
       "<style>\n",
       "    /* Turns off some styling */\n",
       "    progress {\n",
       "        /* gets rid of default border in Firefox and Opera. */\n",
       "        border: none;\n",
       "        /* Needs to be in here for Safari polyfill so background images work as expected. */\n",
       "        background-size: auto;\n",
       "    }\n",
       "    progress:not([value]), progress:not([value])::-webkit-progress-bar {\n",
       "        background: repeating-linear-gradient(45deg, #7e7e7e, #7e7e7e 10px, #5c5c5c 10px, #5c5c5c 20px);\n",
       "    }\n",
       "    .progress-bar-interrupted, .progress-bar-interrupted::-webkit-progress-bar {\n",
       "        background: #F44336;\n",
       "    }\n",
       "</style>\n"
      ],
      "text/plain": [
       "<IPython.core.display.HTML object>"
      ]
     },
     "metadata": {},
     "output_type": "display_data"
    },
    {
     "data": {
      "text/html": [],
      "text/plain": [
       "<IPython.core.display.HTML object>"
      ]
     },
     "metadata": {},
     "output_type": "display_data"
    }
   ],
   "source": [
    "dls_lm = TextDataLoaders.from_df(df_lm, path=path, text_col=(1,2), label_col=0, is_lm=True, seed=42, shuffle=False)"
   ]
  },
  {
   "cell_type": "code",
   "execution_count": 8,
   "id": "1b20b63a-9e26-4e94-8451-f48c796e433f",
   "metadata": {},
   "outputs": [
    {
     "data": {
      "text/html": [
       "<table border=\"1\" class=\"dataframe\">\n",
       "  <thead>\n",
       "    <tr style=\"text-align: right;\">\n",
       "      <th></th>\n",
       "      <th>text</th>\n",
       "      <th>text_</th>\n",
       "    </tr>\n",
       "  </thead>\n",
       "  <tbody>\n",
       "    <tr>\n",
       "      <th>0</th>\n",
       "      <td>xxbos xxfld 1 xxup fg xxmaj holds xxmaj talks with xxmaj niger xxmaj delta xxmaj militants xxfld 2 xxmaj the xxmaj federal xxmaj government yesterday revealed that security agencies are holding talks in xxmaj abuja with the leadership of the xxmaj niger xxmaj delta xxmaj peoples xxmaj volunteer xxmaj force ( xxunk ) , led by xxmaj xxunk xxmaj asari xxmaj dokubo , over the continued unrest in the xxmaj niger xxmaj</td>\n",
       "      <td>xxfld 1 xxup fg xxmaj holds xxmaj talks with xxmaj niger xxmaj delta xxmaj militants xxfld 2 xxmaj the xxmaj federal xxmaj government yesterday revealed that security agencies are holding talks in xxmaj abuja with the leadership of the xxmaj niger xxmaj delta xxmaj peoples xxmaj volunteer xxmaj force ( xxunk ) , led by xxmaj xxunk xxmaj asari xxmaj dokubo , over the continued unrest in the xxmaj niger xxmaj delta</td>\n",
       "    </tr>\n",
       "    <tr>\n",
       "      <th>1</th>\n",
       "      <td>xxmaj street xxmaj global xxmaj advisors , xxmaj timothy xxup b. xxmaj xxunk , died of a heart attack on xxmaj tuesday night , the company said yesterday . xxmaj he was 53 . xxbos xxfld 1 xxmaj texas not popular choice xxfld 2 xxmaj the xxmaj breeders ' xxmaj cup is making its first visit to xxmaj texas and not everyone thinks the world of it . xxmaj there has been</td>\n",
       "      <td>street xxmaj global xxmaj advisors , xxmaj timothy xxup b. xxmaj xxunk , died of a heart attack on xxmaj tuesday night , the company said yesterday . xxmaj he was 53 . xxbos xxfld 1 xxmaj texas not popular choice xxfld 2 xxmaj the xxmaj breeders ' xxmaj cup is making its first visit to xxmaj texas and not everyone thinks the world of it . xxmaj there has been grumbling</td>\n",
       "    </tr>\n",
       "    <tr>\n",
       "      <th>2</th>\n",
       "      <td>the body to grow its own bypasses , at first in the legs and , if that works , perhaps later in the heart … xxbos xxfld 1 xxup eu : xxmaj coke xxup eu anti - trust case settlement closer xxfld 2 coca - cola xxmaj xxunk xxmaj bottling xxmaj company has announced developments in the long - running xxup eu investigation into anti - competitive practices . xxbos xxfld 1</td>\n",
       "      <td>body to grow its own bypasses , at first in the legs and , if that works , perhaps later in the heart … xxbos xxfld 1 xxup eu : xxmaj coke xxup eu anti - trust case settlement closer xxfld 2 coca - cola xxmaj xxunk xxmaj bottling xxmaj company has announced developments in the long - running xxup eu investigation into anti - competitive practices . xxbos xxfld 1 xxmaj</td>\n",
       "    </tr>\n",
       "    <tr>\n",
       "      <th>3</th>\n",
       "      <td>believes xxmaj dennis xxmaj rommedahl 's sparkling winner will provide the platform for the xxmaj dane to recapture the form that made him one of xxmaj europe 's most feared wingers . xxbos xxfld 1 xxmaj business as usual for xxup ata despite bankruptcy filing xxfld 2 xxmaj although the future of xxup ata xxmaj airlines xxmaj inc . remains up in the air , planes still were landing xxmaj wednesday at</td>\n",
       "      <td>xxmaj dennis xxmaj rommedahl 's sparkling winner will provide the platform for the xxmaj dane to recapture the form that made him one of xxmaj europe 's most feared wingers . xxbos xxfld 1 xxmaj business as usual for xxup ata despite bankruptcy filing xxfld 2 xxmaj although the future of xxup ata xxmaj airlines xxmaj inc . remains up in the air , planes still were landing xxmaj wednesday at the</td>\n",
       "    </tr>\n",
       "    <tr>\n",
       "      <th>4</th>\n",
       "      <td>of xxunk percent . xxmaj it is , state officials said , the lowest interest rate offered in more than 30 years . xxbos xxfld 1 xxup n.c . xxmaj state 's xxmaj hodge xxmaj puts xxmaj self xxmaj among xxmaj elite ( ap ) xxfld 2 xxup ap - xxmaj julius xxmaj hodge drove to the basket and scored , then turned to run back on defense . xxmaj on the</td>\n",
       "      <td>xxunk percent . xxmaj it is , state officials said , the lowest interest rate offered in more than 30 years . xxbos xxfld 1 xxup n.c . xxmaj state 's xxmaj hodge xxmaj puts xxmaj self xxmaj among xxmaj elite ( ap ) xxfld 2 xxup ap - xxmaj julius xxmaj hodge drove to the basket and scored , then turned to run back on defense . xxmaj on the way</td>\n",
       "    </tr>\n",
       "    <tr>\n",
       "      <th>5</th>\n",
       "      <td>tuesday xxbos xxfld 1 xxmaj bryant 's xxmaj accuser xxmaj must xxmaj be xxmaj identified xxfld 2 xxup denver - a federal judge in xxmaj colorado has rejected a request from the woman accusing xxup nba star xxmaj kobe xxmaj bryant of rape to remain anonymous in her civil lawsuit . xxbos xxfld 1 xxmaj sox and bonds xxfld 2 xxmaj there are games in which players renew their vows as teammates</td>\n",
       "      <td>xxbos xxfld 1 xxmaj bryant 's xxmaj accuser xxmaj must xxmaj be xxmaj identified xxfld 2 xxup denver - a federal judge in xxmaj colorado has rejected a request from the woman accusing xxup nba star xxmaj kobe xxmaj bryant of rape to remain anonymous in her civil lawsuit . xxbos xxfld 1 xxmaj sox and bonds xxfld 2 xxmaj there are games in which players renew their vows as teammates ,</td>\n",
       "    </tr>\n",
       "    <tr>\n",
       "      <th>6</th>\n",
       "      <td>xxmaj boston to the 6 - 2 win in xxmaj game 2 . xxbos xxfld 1 xxup us xxmaj consumer xxmaj confidence xxmaj tumbles in xxmaj august xxfld 2 xxup new xxup york ( reuters ) - xxup u.s . consumer confidence fell sharply in xxmaj august , breaking four straight months of gains , as a slowdown in job creation and rising oil prices weighed on sentiment . xxbos xxfld 1</td>\n",
       "      <td>boston to the 6 - 2 win in xxmaj game 2 . xxbos xxfld 1 xxup us xxmaj consumer xxmaj confidence xxmaj tumbles in xxmaj august xxfld 2 xxup new xxup york ( reuters ) - xxup u.s . consumer confidence fell sharply in xxmaj august , breaking four straight months of gains , as a slowdown in job creation and rising oil prices weighed on sentiment . xxbos xxfld 1 temple</td>\n",
       "    </tr>\n",
       "    <tr>\n",
       "      <th>7</th>\n",
       "      <td>\\ \\ xxmaj early xxmaj internet surfers , which of course means something less than a decade ago for most of us , will remember the days when xxmaj netscape was the only real browser in town . xxmaj for those who do n't remember , there was a time when xxmaj netscape was for sale in … xxbos xxfld 1 xxmaj everton ' considering ' increased xxmaj rooney bid xxfld 2</td>\n",
       "      <td>\\ xxmaj early xxmaj internet surfers , which of course means something less than a decade ago for most of us , will remember the days when xxmaj netscape was the only real browser in town . xxmaj for those who do n't remember , there was a time when xxmaj netscape was for sale in … xxbos xxfld 1 xxmaj everton ' considering ' increased xxmaj rooney bid xxfld 2 xxmaj</td>\n",
       "    </tr>\n",
       "    <tr>\n",
       "      <th>8</th>\n",
       "      <td>reuters ) xxfld 2 xxmaj reuters - xxmaj the xxmaj japanese government downgraded its \\ view on the economy slightly on xxmaj tuesday , citing weaker exports \\ and output , but it said a recovery was continuing due to steady \\ domestic demand , in terms of both personal consumption and \\ capital spending . \" the economy continues to recover , while \\ some weak movements have been seen recently</td>\n",
       "      <td>) xxfld 2 xxmaj reuters - xxmaj the xxmaj japanese government downgraded its \\ view on the economy slightly on xxmaj tuesday , citing weaker exports \\ and output , but it said a recovery was continuing due to steady \\ domestic demand , in terms of both personal consumption and \\ capital spending . \" the economy continues to recover , while \\ some weak movements have been seen recently ,</td>\n",
       "    </tr>\n",
       "  </tbody>\n",
       "</table>"
      ],
      "text/plain": [
       "<IPython.core.display.HTML object>"
      ]
     },
     "metadata": {},
     "output_type": "display_data"
    }
   ],
   "source": [
    "dls_lm.train.show_batch()"
   ]
  },
  {
   "cell_type": "markdown",
   "id": "45fb325b",
   "metadata": {},
   "source": [
    "Here we are grouping the title and description columns for the model's text input in a single feature. Note that the independent variable `text` and the dependent target `text_` are offset by a single token. Our fine-tuned language model will learn to predict the next token in the series based on the values in the stream `text`.\n",
    "\n",
    "## Fine-Tune the Language Model\n",
    "We'll base training on the classic AWD-LSTM model (as used in ULMFiT), initialize and train it. Note that we’ll do a quick pass first, then unfreeze more layers for deeper fine-tuning. Because language model is so large, we'll also start off training in mixed precision to save time and resources."
   ]
  },
  {
   "cell_type": "code",
   "execution_count": 9,
   "id": "50c01ebb-60de-48f3-8647-1a5eccbdc356",
   "metadata": {},
   "outputs": [
    {
     "data": {
      "text/html": [
       "\n",
       "<style>\n",
       "    /* Turns off some styling */\n",
       "    progress {\n",
       "        /* gets rid of default border in Firefox and Opera. */\n",
       "        border: none;\n",
       "        /* Needs to be in here for Safari polyfill so background images work as expected. */\n",
       "        background-size: auto;\n",
       "    }\n",
       "    progress:not([value]), progress:not([value])::-webkit-progress-bar {\n",
       "        background: repeating-linear-gradient(45deg, #7e7e7e, #7e7e7e 10px, #5c5c5c 10px, #5c5c5c 20px);\n",
       "    }\n",
       "    .progress-bar-interrupted, .progress-bar-interrupted::-webkit-progress-bar {\n",
       "        background: #F44336;\n",
       "    }\n",
       "</style>\n"
      ],
      "text/plain": [
       "<IPython.core.display.HTML object>"
      ]
     },
     "metadata": {},
     "output_type": "display_data"
    },
    {
     "data": {
      "text/html": [
       "\n",
       "    <div>\n",
       "      <progress value='105070592' class='' max='105067061' style='width:300px; height:20px; vertical-align: middle;'></progress>\n",
       "      100.00% [105070592/105067061 00:01&lt;00:00]\n",
       "    </div>\n",
       "    "
      ],
      "text/plain": [
       "<IPython.core.display.HTML object>"
      ]
     },
     "metadata": {},
     "output_type": "display_data"
    },
    {
     "data": {
      "text/html": [
       "\n",
       "<style>\n",
       "    /* Turns off some styling */\n",
       "    progress {\n",
       "        /* gets rid of default border in Firefox and Opera. */\n",
       "        border: none;\n",
       "        /* Needs to be in here for Safari polyfill so background images work as expected. */\n",
       "        background-size: auto;\n",
       "    }\n",
       "    progress:not([value]), progress:not([value])::-webkit-progress-bar {\n",
       "        background: repeating-linear-gradient(45deg, #7e7e7e, #7e7e7e 10px, #5c5c5c 10px, #5c5c5c 20px);\n",
       "    }\n",
       "    .progress-bar-interrupted, .progress-bar-interrupted::-webkit-progress-bar {\n",
       "        background: #F44336;\n",
       "    }\n",
       "</style>\n"
      ],
      "text/plain": [
       "<IPython.core.display.HTML object>"
      ]
     },
     "metadata": {},
     "output_type": "display_data"
    },
    {
     "data": {
      "text/html": [
       "<table border=\"1\" class=\"dataframe\">\n",
       "  <thead>\n",
       "    <tr style=\"text-align: left;\">\n",
       "      <th>epoch</th>\n",
       "      <th>train_loss</th>\n",
       "      <th>valid_loss</th>\n",
       "      <th>accuracy</th>\n",
       "      <th>perplexity</th>\n",
       "      <th>time</th>\n",
       "    </tr>\n",
       "  </thead>\n",
       "  <tbody>\n",
       "    <tr>\n",
       "      <td>0</td>\n",
       "      <td>3.208871</td>\n",
       "      <td>3.068084</td>\n",
       "      <td>0.448090</td>\n",
       "      <td>21.500673</td>\n",
       "      <td>10:58</td>\n",
       "    </tr>\n",
       "  </tbody>\n",
       "</table>"
      ],
      "text/plain": [
       "<IPython.core.display.HTML object>"
      ]
     },
     "metadata": {},
     "output_type": "display_data"
    }
   ],
   "source": [
    "learn = language_model_learner(\n",
    "    dls_lm, AWD_LSTM, drop_mult=0.3,\n",
    "    metrics=[accuracy, Perplexity()]).to_fp16()\n",
    "learn.fit_one_cycle(1, 2e-2)"
   ]
  },
  {
   "cell_type": "code",
   "execution_count": 10,
   "id": "7fee7513-f284-4724-8557-63422c75fdfb",
   "metadata": {},
   "outputs": [
    {
     "data": {
      "text/html": [
       "\n",
       "<style>\n",
       "    /* Turns off some styling */\n",
       "    progress {\n",
       "        /* gets rid of default border in Firefox and Opera. */\n",
       "        border: none;\n",
       "        /* Needs to be in here for Safari polyfill so background images work as expected. */\n",
       "        background-size: auto;\n",
       "    }\n",
       "    progress:not([value]), progress:not([value])::-webkit-progress-bar {\n",
       "        background: repeating-linear-gradient(45deg, #7e7e7e, #7e7e7e 10px, #5c5c5c 10px, #5c5c5c 20px);\n",
       "    }\n",
       "    .progress-bar-interrupted, .progress-bar-interrupted::-webkit-progress-bar {\n",
       "        background: #F44336;\n",
       "    }\n",
       "</style>\n"
      ],
      "text/plain": [
       "<IPython.core.display.HTML object>"
      ]
     },
     "metadata": {},
     "output_type": "display_data"
    },
    {
     "data": {
      "text/html": [
       "<table border=\"1\" class=\"dataframe\">\n",
       "  <thead>\n",
       "    <tr style=\"text-align: left;\">\n",
       "      <th>epoch</th>\n",
       "      <th>train_loss</th>\n",
       "      <th>valid_loss</th>\n",
       "      <th>accuracy</th>\n",
       "      <th>perplexity</th>\n",
       "      <th>time</th>\n",
       "    </tr>\n",
       "  </thead>\n",
       "  <tbody>\n",
       "    <tr>\n",
       "      <td>0</td>\n",
       "      <td>2.986610</td>\n",
       "      <td>2.879777</td>\n",
       "      <td>0.471676</td>\n",
       "      <td>17.810308</td>\n",
       "      <td>11:50</td>\n",
       "    </tr>\n",
       "    <tr>\n",
       "      <td>1</td>\n",
       "      <td>2.830561</td>\n",
       "      <td>2.799445</td>\n",
       "      <td>0.482623</td>\n",
       "      <td>16.435516</td>\n",
       "      <td>11:54</td>\n",
       "    </tr>\n",
       "    <tr>\n",
       "      <td>2</td>\n",
       "      <td>2.637185</td>\n",
       "      <td>2.740306</td>\n",
       "      <td>0.493215</td>\n",
       "      <td>15.491731</td>\n",
       "      <td>11:57</td>\n",
       "    </tr>\n",
       "    <tr>\n",
       "      <td>3</td>\n",
       "      <td>2.456956</td>\n",
       "      <td>2.715974</td>\n",
       "      <td>0.499630</td>\n",
       "      <td>15.119334</td>\n",
       "      <td>11:57</td>\n",
       "    </tr>\n",
       "    <tr>\n",
       "      <td>4</td>\n",
       "      <td>2.294566</td>\n",
       "      <td>2.704736</td>\n",
       "      <td>0.505257</td>\n",
       "      <td>14.950377</td>\n",
       "      <td>11:56</td>\n",
       "    </tr>\n",
       "    <tr>\n",
       "      <td>5</td>\n",
       "      <td>2.147095</td>\n",
       "      <td>2.698480</td>\n",
       "      <td>0.510063</td>\n",
       "      <td>14.857126</td>\n",
       "      <td>11:58</td>\n",
       "    </tr>\n",
       "    <tr>\n",
       "      <td>6</td>\n",
       "      <td>2.005627</td>\n",
       "      <td>2.695754</td>\n",
       "      <td>0.514727</td>\n",
       "      <td>14.816684</td>\n",
       "      <td>11:58</td>\n",
       "    </tr>\n",
       "    <tr>\n",
       "      <td>7</td>\n",
       "      <td>1.902904</td>\n",
       "      <td>2.703961</td>\n",
       "      <td>0.518032</td>\n",
       "      <td>14.938793</td>\n",
       "      <td>12:00</td>\n",
       "    </tr>\n",
       "    <tr>\n",
       "      <td>8</td>\n",
       "      <td>1.820011</td>\n",
       "      <td>2.705783</td>\n",
       "      <td>0.520096</td>\n",
       "      <td>14.966028</td>\n",
       "      <td>12:01</td>\n",
       "    </tr>\n",
       "    <tr>\n",
       "      <td>9</td>\n",
       "      <td>1.797798</td>\n",
       "      <td>2.743584</td>\n",
       "      <td>0.518972</td>\n",
       "      <td>15.542585</td>\n",
       "      <td>12:02</td>\n",
       "    </tr>\n",
       "  </tbody>\n",
       "</table>"
      ],
      "text/plain": [
       "<IPython.core.display.HTML object>"
      ]
     },
     "metadata": {},
     "output_type": "display_data"
    }
   ],
   "source": [
    "learn.save('1epoch')\n",
    "learn = learn.load('1epoch')\n",
    "learn.unfreeze()\n",
    "learn.fit_one_cycle(10, 2e-3)\n",
    "learn.save_encoder('finetuned')"
   ]
  },
  {
   "cell_type": "markdown",
   "id": "3659ca67",
   "metadata": {},
   "source": [
    "An accuracy of 52% might not sound high, but it's actually a really good value for a language model predicting the next word in a sentence. Common values for this on other datasets are also in the 40-50% range. Because the model took hours to train, we should save it now."
   ]
  },
  {
   "cell_type": "code",
   "execution_count": 11,
   "id": "08e92dc0-59c9-4f7f-b206-c5c583f48d02",
   "metadata": {},
   "outputs": [],
   "source": [
    "learn.save_encoder('finetuned')"
   ]
  },
  {
   "cell_type": "markdown",
   "id": "6e49d38b-2e42-4c5c-8e18-e22752325051",
   "metadata": {},
   "source": [
    "Some important components to note from the code above: \n",
    "\n",
    "1. language_model_learner: Loads a pretrained LM (from Wikipedia), plus a final layer we’ll adapt to our new text domain.\n",
    "2. fit_one_cycle: A training schedule that typically yields fast, stable convergence.\n",
    "3. unfreeze(): Unlocks earlier layers, allowing the model to adjust them for our AG News text.\n",
    "4. save_encoder('finetuned'): Saves only the encoder portion of the model. We’ll need this for classification.\n",
    "\n",
    "## Sanity Check: Generate Some Text\n",
    "Language models can have fun creative uses: we can sample from them to see if the fine-tuning “vocabulary” looks correct."
   ]
  },
  {
   "cell_type": "code",
   "execution_count": 13,
   "id": "91d21e79-d0fa-4c24-ae22-622ecec17df2",
   "metadata": {},
   "outputs": [
    {
     "data": {
      "text/html": [
       "\n",
       "<style>\n",
       "    /* Turns off some styling */\n",
       "    progress {\n",
       "        /* gets rid of default border in Firefox and Opera. */\n",
       "        border: none;\n",
       "        /* Needs to be in here for Safari polyfill so background images work as expected. */\n",
       "        background-size: auto;\n",
       "    }\n",
       "    progress:not([value]), progress:not([value])::-webkit-progress-bar {\n",
       "        background: repeating-linear-gradient(45deg, #7e7e7e, #7e7e7e 10px, #5c5c5c 10px, #5c5c5c 20px);\n",
       "    }\n",
       "    .progress-bar-interrupted, .progress-bar-interrupted::-webkit-progress-bar {\n",
       "        background: #F44336;\n",
       "    }\n",
       "</style>\n"
      ],
      "text/plain": [
       "<IPython.core.display.HTML object>"
      ]
     },
     "metadata": {},
     "output_type": "display_data"
    },
    {
     "data": {
      "text/html": [],
      "text/plain": [
       "<IPython.core.display.HTML object>"
      ]
     },
     "metadata": {},
     "output_type": "display_data"
    },
    {
     "data": {
      "text/html": [
       "\n",
       "<style>\n",
       "    /* Turns off some styling */\n",
       "    progress {\n",
       "        /* gets rid of default border in Firefox and Opera. */\n",
       "        border: none;\n",
       "        /* Needs to be in here for Safari polyfill so background images work as expected. */\n",
       "        background-size: auto;\n",
       "    }\n",
       "    progress:not([value]), progress:not([value])::-webkit-progress-bar {\n",
       "        background: repeating-linear-gradient(45deg, #7e7e7e, #7e7e7e 10px, #5c5c5c 10px, #5c5c5c 20px);\n",
       "    }\n",
       "    .progress-bar-interrupted, .progress-bar-interrupted::-webkit-progress-bar {\n",
       "        background: #F44336;\n",
       "    }\n",
       "</style>\n"
      ],
      "text/plain": [
       "<IPython.core.display.HTML object>"
      ]
     },
     "metadata": {},
     "output_type": "display_data"
    },
    {
     "data": {
      "text/html": [],
      "text/plain": [
       "<IPython.core.display.HTML object>"
      ]
     },
     "metadata": {},
     "output_type": "display_data"
    },
    {
     "name": "stdout",
     "output_type": "stream",
     "text": [
      "Netflix Launches New DVD Rental Service ( ap ) xxfld 2 AP - The DVD rental business is offering a boost to a new DVD rental service , the Blu - ray Disc ,\n",
      "Netflix Launches New Online Service ( ap ) xxfld 2 AP - Online video service Netflix Inc . on Monday said it was launching a service that lets users watch movies , music and games faster\n"
     ]
    }
   ],
   "source": [
    "TEXT = \"Netflix Launches New\"\n",
    "N_WORDS = 40\n",
    "N_SENTENCES = 2\n",
    "preds = [learn.predict(TEXT, N_WORDS, temperature=0.75)\n",
    "         for _ in range(N_SENTENCES)] \n",
    "print(\"\\n\".join(preds))"
   ]
  },
  {
   "cell_type": "markdown",
   "id": "ccb533ab-c8bb-4fe5-8ee8-9efec7503550",
   "metadata": {},
   "source": [
    "If the output reads like plausible news text about Netflix, we know the domain adaptation is at least somewhat working.\n",
    "\n",
    "# Build a Classifier on the Fine-Tuned Encoder\n",
    "Now for the real objective: classifying AG News into four categories. We’ll feed the same text columns to a TextDataLoaders, but this time it’s not an LM. We also load the vocabulary from our language model so that the word embeddings match perfectly.\n"
   ]
  },
  {
   "cell_type": "code",
   "execution_count": 14,
   "id": "059c32d7-4a1f-4bc9-b47d-f740b32490a8",
   "metadata": {},
   "outputs": [
    {
     "data": {
      "text/html": [
       "\n",
       "<style>\n",
       "    /* Turns off some styling */\n",
       "    progress {\n",
       "        /* gets rid of default border in Firefox and Opera. */\n",
       "        border: none;\n",
       "        /* Needs to be in here for Safari polyfill so background images work as expected. */\n",
       "        background-size: auto;\n",
       "    }\n",
       "    progress:not([value]), progress:not([value])::-webkit-progress-bar {\n",
       "        background: repeating-linear-gradient(45deg, #7e7e7e, #7e7e7e 10px, #5c5c5c 10px, #5c5c5c 20px);\n",
       "    }\n",
       "    .progress-bar-interrupted, .progress-bar-interrupted::-webkit-progress-bar {\n",
       "        background: #F44336;\n",
       "    }\n",
       "</style>\n"
      ],
      "text/plain": [
       "<IPython.core.display.HTML object>"
      ]
     },
     "metadata": {},
     "output_type": "display_data"
    },
    {
     "data": {
      "text/html": [],
      "text/plain": [
       "<IPython.core.display.HTML object>"
      ]
     },
     "metadata": {},
     "output_type": "display_data"
    },
    {
     "data": {
      "text/html": [
       "<table border=\"1\" class=\"dataframe\">\n",
       "  <thead>\n",
       "    <tr style=\"text-align: right;\">\n",
       "      <th></th>\n",
       "      <th>text</th>\n",
       "      <th>category</th>\n",
       "    </tr>\n",
       "  </thead>\n",
       "  <tbody>\n",
       "    <tr>\n",
       "      <th>0</th>\n",
       "      <td>xxbos xxfld 1 xxmaj kyoto is xxmaj dead - xxmaj long xxmaj live xxmaj pragmatism xxfld 2 xxmaj there 's troubling news ( ft subscription xxunk , alternate copy here ) coming from xxmaj japan , where the xxmaj kyoto protocol on xxmaj greenhouse xxmaj emissions was born in 1997 . xxmaj it seems that the xxmaj japanese are n't going to be able to meet their emissions targets specified in the agreement in time . xxmaj indeed , unless they buy a \" large quantity \" of emissions credits from other countries , they 're not going to be able to meet their commitment at all . xxmaj xxunk xxmaj sugiyama , a climate expert at the xxmaj central xxmaj research xxmaj institute of xxmaj electric xxmaj power xxmaj industry in xxmaj japan , said emissions were rising 1 per cent a year due to a larger - than</td>\n",
       "      <td>4</td>\n",
       "    </tr>\n",
       "    <tr>\n",
       "      <th>1</th>\n",
       "      <td>xxbos xxfld 1 2004 xxup us xxmaj senate xxmaj outlook xxfld 2 xxmaj with all the hoopla over xxmaj bush and xxmaj kerry , some of you may not have been paying close attention to the other races going on in this loaded xxup us political season . xxmaj i 've read a good dozen or so xxmaj senate outlooks , and my blurry eyes and spinning brain kept getting lost in all the numbers and losing track of who , ultimately , was likely to control the xxmaj senate on xxmaj november third . xxmaj so i made my very own xxmaj senate outlook to figure it out ( or add further confusion , depending on what you think of my predictions ) . xxmaj the bad news is , we probably wo n't know who controls the xxmaj senate on xxmaj november third . xxmaj the good news</td>\n",
       "      <td>4</td>\n",
       "    </tr>\n",
       "    <tr>\n",
       "      <th>2</th>\n",
       "      <td>xxbos xxfld 1 xxmaj the xxmaj rundown xxfld 2 4 xxmaj miami at xxup n.c . xxmaj state &lt; xxunk p.m. , xxup espn &lt; / em&gt;&lt;br &gt; think the xxmaj wolfpack is kicking itself for that loss two weeks ago at xxmaj north xxmaj carolina ? xxmaj you bet . xxmaj had xxup n.c . xxmaj state ( 4 - 2 , 3 - 1 xxup acc ) won that one , this would be for sole possession of first place in the xxup acc . xxmaj as it is , this is a chance for the xxmaj wolfpack to show it belongs in the upper echelon of the restructured league -- which , for now , is xxmaj miami , xxmaj florida xxmaj state , and a xxunk of also - rans . xxmaj the xxmaj wolfpack 's defense is the best in the nation against the pass</td>\n",
       "      <td>2</td>\n",
       "    </tr>\n",
       "  </tbody>\n",
       "</table>"
      ],
      "text/plain": [
       "<IPython.core.display.HTML object>"
      ]
     },
     "metadata": {},
     "output_type": "display_data"
    }
   ],
   "source": [
    "dls_clas = TextDataLoaders.from_df(df_train, path=path, text_col=(1,2), label_col=0, \n",
    "                                 is_lm=False, seed=42, shuffle=False, text_vocab=dls_lm.vocab)\n",
    "\n",
    "dls_clas.show_batch(max_n=3)\n",
    "\n"
   ]
  },
  {
   "cell_type": "code",
   "execution_count": 21,
   "id": "a40898cc-108e-4e78-9613-68de2044c7ff",
   "metadata": {},
   "outputs": [],
   "source": [
    "learn = text_classifier_learner(dls_clas, AWD_LSTM, drop_mult=0.5,\n",
    "                                metrics=[accuracy, Perplexity()]).to_fp16()"
   ]
  },
  {
   "cell_type": "code",
   "execution_count": 16,
   "id": "1b97b991-4e51-4278-9134-a35a78c90a99",
   "metadata": {},
   "outputs": [
    {
     "data": {
      "text/plain": [
       "FlattenedLoss of CrossEntropyLoss()"
      ]
     },
     "execution_count": 16,
     "metadata": {},
     "output_type": "execute_result"
    }
   ],
   "source": [
    "learn.loss_func"
   ]
  },
  {
   "cell_type": "code",
   "execution_count": 17,
   "id": "91f8bd21-ebc9-4528-8ee6-19fa56bf6faf",
   "metadata": {},
   "outputs": [
    {
     "data": {
      "text/plain": [
       "<fastai.optimizer.Optimizer at 0x7f8c5189b490>"
      ]
     },
     "execution_count": 17,
     "metadata": {},
     "output_type": "execute_result"
    }
   ],
   "source": [
    "learn.opt"
   ]
  },
  {
   "cell_type": "code",
   "execution_count": 22,
   "id": "3918e103-f2bf-4985-8302-79274af50d53",
   "metadata": {},
   "outputs": [],
   "source": [
    "learn = learn.load_encoder('finetuned')"
   ]
  },
  {
   "cell_type": "markdown",
   "id": "dff1b2cd-48a9-4f2d-a477-e6899c07cdf0",
   "metadata": {},
   "source": [
    "1. `text_classifier_learner`: Creates a classification head on top of the `AWD-LSTM`.\n",
    "2. `load_encoder('finetuned')`: Loads the encoder we fine-tuned on AG News text, transferring all that new domain knowledge.\n",
    "\n",
    "## Discriminative Learning Rates and Gradual Unfreezing\n",
    "A hallmark of ULMFiT is the notion that earlier layers need less aggressive updates than later ones. So we train in stages, unfreezing layer by layer and applying smaller LR to earlier layers."
   ]
  },
  {
   "cell_type": "code",
   "execution_count": 23,
   "id": "10952483-0eb6-4e0b-9264-42cc95212259",
   "metadata": {},
   "outputs": [
    {
     "data": {
      "text/html": [
       "\n",
       "<style>\n",
       "    /* Turns off some styling */\n",
       "    progress {\n",
       "        /* gets rid of default border in Firefox and Opera. */\n",
       "        border: none;\n",
       "        /* Needs to be in here for Safari polyfill so background images work as expected. */\n",
       "        background-size: auto;\n",
       "    }\n",
       "    progress:not([value]), progress:not([value])::-webkit-progress-bar {\n",
       "        background: repeating-linear-gradient(45deg, #7e7e7e, #7e7e7e 10px, #5c5c5c 10px, #5c5c5c 20px);\n",
       "    }\n",
       "    .progress-bar-interrupted, .progress-bar-interrupted::-webkit-progress-bar {\n",
       "        background: #F44336;\n",
       "    }\n",
       "</style>\n"
      ],
      "text/plain": [
       "<IPython.core.display.HTML object>"
      ]
     },
     "metadata": {},
     "output_type": "display_data"
    },
    {
     "data": {
      "text/html": [
       "<table border=\"1\" class=\"dataframe\">\n",
       "  <thead>\n",
       "    <tr style=\"text-align: left;\">\n",
       "      <th>epoch</th>\n",
       "      <th>train_loss</th>\n",
       "      <th>valid_loss</th>\n",
       "      <th>accuracy</th>\n",
       "      <th>perplexity</th>\n",
       "      <th>time</th>\n",
       "    </tr>\n",
       "  </thead>\n",
       "  <tbody>\n",
       "    <tr>\n",
       "      <td>0</td>\n",
       "      <td>0.728121</td>\n",
       "      <td>0.365699</td>\n",
       "      <td>0.879958</td>\n",
       "      <td>1.441521</td>\n",
       "      <td>01:41</td>\n",
       "    </tr>\n",
       "  </tbody>\n",
       "</table>"
      ],
      "text/plain": [
       "<IPython.core.display.HTML object>"
      ]
     },
     "metadata": {},
     "output_type": "display_data"
    },
    {
     "data": {
      "text/html": [
       "\n",
       "<style>\n",
       "    /* Turns off some styling */\n",
       "    progress {\n",
       "        /* gets rid of default border in Firefox and Opera. */\n",
       "        border: none;\n",
       "        /* Needs to be in here for Safari polyfill so background images work as expected. */\n",
       "        background-size: auto;\n",
       "    }\n",
       "    progress:not([value]), progress:not([value])::-webkit-progress-bar {\n",
       "        background: repeating-linear-gradient(45deg, #7e7e7e, #7e7e7e 10px, #5c5c5c 10px, #5c5c5c 20px);\n",
       "    }\n",
       "    .progress-bar-interrupted, .progress-bar-interrupted::-webkit-progress-bar {\n",
       "        background: #F44336;\n",
       "    }\n",
       "</style>\n"
      ],
      "text/plain": [
       "<IPython.core.display.HTML object>"
      ]
     },
     "metadata": {},
     "output_type": "display_data"
    },
    {
     "data": {
      "text/html": [
       "<table border=\"1\" class=\"dataframe\">\n",
       "  <thead>\n",
       "    <tr style=\"text-align: left;\">\n",
       "      <th>epoch</th>\n",
       "      <th>train_loss</th>\n",
       "      <th>valid_loss</th>\n",
       "      <th>accuracy</th>\n",
       "      <th>perplexity</th>\n",
       "      <th>time</th>\n",
       "    </tr>\n",
       "  </thead>\n",
       "  <tbody>\n",
       "    <tr>\n",
       "      <td>0</td>\n",
       "      <td>0.735102</td>\n",
       "      <td>0.360706</td>\n",
       "      <td>0.898500</td>\n",
       "      <td>1.434342</td>\n",
       "      <td>01:55</td>\n",
       "    </tr>\n",
       "  </tbody>\n",
       "</table>"
      ],
      "text/plain": [
       "<IPython.core.display.HTML object>"
      ]
     },
     "metadata": {},
     "output_type": "display_data"
    },
    {
     "data": {
      "text/html": [
       "\n",
       "<style>\n",
       "    /* Turns off some styling */\n",
       "    progress {\n",
       "        /* gets rid of default border in Firefox and Opera. */\n",
       "        border: none;\n",
       "        /* Needs to be in here for Safari polyfill so background images work as expected. */\n",
       "        background-size: auto;\n",
       "    }\n",
       "    progress:not([value]), progress:not([value])::-webkit-progress-bar {\n",
       "        background: repeating-linear-gradient(45deg, #7e7e7e, #7e7e7e 10px, #5c5c5c 10px, #5c5c5c 20px);\n",
       "    }\n",
       "    .progress-bar-interrupted, .progress-bar-interrupted::-webkit-progress-bar {\n",
       "        background: #F44336;\n",
       "    }\n",
       "</style>\n"
      ],
      "text/plain": [
       "<IPython.core.display.HTML object>"
      ]
     },
     "metadata": {},
     "output_type": "display_data"
    },
    {
     "data": {
      "text/html": [
       "<table border=\"1\" class=\"dataframe\">\n",
       "  <thead>\n",
       "    <tr style=\"text-align: left;\">\n",
       "      <th>epoch</th>\n",
       "      <th>train_loss</th>\n",
       "      <th>valid_loss</th>\n",
       "      <th>accuracy</th>\n",
       "      <th>perplexity</th>\n",
       "      <th>time</th>\n",
       "    </tr>\n",
       "  </thead>\n",
       "  <tbody>\n",
       "    <tr>\n",
       "      <td>0</td>\n",
       "      <td>0.777047</td>\n",
       "      <td>0.286184</td>\n",
       "      <td>0.919708</td>\n",
       "      <td>1.331338</td>\n",
       "      <td>02:50</td>\n",
       "    </tr>\n",
       "  </tbody>\n",
       "</table>"
      ],
      "text/plain": [
       "<IPython.core.display.HTML object>"
      ]
     },
     "metadata": {},
     "output_type": "display_data"
    },
    {
     "data": {
      "text/html": [
       "\n",
       "<style>\n",
       "    /* Turns off some styling */\n",
       "    progress {\n",
       "        /* gets rid of default border in Firefox and Opera. */\n",
       "        border: none;\n",
       "        /* Needs to be in here for Safari polyfill so background images work as expected. */\n",
       "        background-size: auto;\n",
       "    }\n",
       "    progress:not([value]), progress:not([value])::-webkit-progress-bar {\n",
       "        background: repeating-linear-gradient(45deg, #7e7e7e, #7e7e7e 10px, #5c5c5c 10px, #5c5c5c 20px);\n",
       "    }\n",
       "    .progress-bar-interrupted, .progress-bar-interrupted::-webkit-progress-bar {\n",
       "        background: #F44336;\n",
       "    }\n",
       "</style>\n"
      ],
      "text/plain": [
       "<IPython.core.display.HTML object>"
      ]
     },
     "metadata": {},
     "output_type": "display_data"
    },
    {
     "data": {
      "text/html": [
       "<table border=\"1\" class=\"dataframe\">\n",
       "  <thead>\n",
       "    <tr style=\"text-align: left;\">\n",
       "      <th>epoch</th>\n",
       "      <th>train_loss</th>\n",
       "      <th>valid_loss</th>\n",
       "      <th>accuracy</th>\n",
       "      <th>perplexity</th>\n",
       "      <th>time</th>\n",
       "    </tr>\n",
       "  </thead>\n",
       "  <tbody>\n",
       "    <tr>\n",
       "      <td>0</td>\n",
       "      <td>0.480853</td>\n",
       "      <td>0.317520</td>\n",
       "      <td>0.887042</td>\n",
       "      <td>1.373717</td>\n",
       "      <td>03:42</td>\n",
       "    </tr>\n",
       "    <tr>\n",
       "      <td>1</td>\n",
       "      <td>0.777151</td>\n",
       "      <td>0.304685</td>\n",
       "      <td>0.920875</td>\n",
       "      <td>1.356198</td>\n",
       "      <td>03:42</td>\n",
       "    </tr>\n",
       "  </tbody>\n",
       "</table>"
      ],
      "text/plain": [
       "<IPython.core.display.HTML object>"
      ]
     },
     "metadata": {},
     "output_type": "display_data"
    }
   ],
   "source": [
    "learn.fit_one_cycle(1, 2e-2)\n",
    "learn.freeze_to(-2)\n",
    "learn.fit_one_cycle(1, slice(1e-2/(2.6**4),1e-2))\n",
    "learn.freeze_to(-3)\n",
    "learn.fit_one_cycle(1, slice(5e-3/(2.6**4),5e-3))\n",
    "learn.unfreeze()\n",
    "learn.fit_one_cycle(2, slice(1e-3/(2.6**4),1e-3))"
   ]
  },
  {
   "cell_type": "markdown",
   "id": "356346d9",
   "metadata": {},
   "source": [
    "Each training session here expands the set of trainable layers until everything is fine-tuned together.\n",
    "\n",
    "We can see how well the classifier is assigning categories by examining sample predictions.\n",
    "\n"
   ]
  },
  {
   "cell_type": "code",
   "execution_count": 24,
   "id": "da95acb5-5f72-4c78-b10c-ae8422069a4c",
   "metadata": {},
   "outputs": [
    {
     "data": {
      "text/html": [
       "\n",
       "<style>\n",
       "    /* Turns off some styling */\n",
       "    progress {\n",
       "        /* gets rid of default border in Firefox and Opera. */\n",
       "        border: none;\n",
       "        /* Needs to be in here for Safari polyfill so background images work as expected. */\n",
       "        background-size: auto;\n",
       "    }\n",
       "    progress:not([value]), progress:not([value])::-webkit-progress-bar {\n",
       "        background: repeating-linear-gradient(45deg, #7e7e7e, #7e7e7e 10px, #5c5c5c 10px, #5c5c5c 20px);\n",
       "    }\n",
       "    .progress-bar-interrupted, .progress-bar-interrupted::-webkit-progress-bar {\n",
       "        background: #F44336;\n",
       "    }\n",
       "</style>\n"
      ],
      "text/plain": [
       "<IPython.core.display.HTML object>"
      ]
     },
     "metadata": {},
     "output_type": "display_data"
    },
    {
     "data": {
      "text/html": [],
      "text/plain": [
       "<IPython.core.display.HTML object>"
      ]
     },
     "metadata": {},
     "output_type": "display_data"
    },
    {
     "data": {
      "text/html": [
       "<table border=\"1\" class=\"dataframe\">\n",
       "  <thead>\n",
       "    <tr style=\"text-align: right;\">\n",
       "      <th></th>\n",
       "      <th>text</th>\n",
       "      <th>category</th>\n",
       "      <th>category_</th>\n",
       "    </tr>\n",
       "  </thead>\n",
       "  <tbody>\n",
       "    <tr>\n",
       "      <th>0</th>\n",
       "      <td>xxbos xxfld 1 xxmaj area xxmaj college xxmaj football xxmaj capsules xxfld 2 xxmaj navy at xxmaj tulsa &lt; br &gt; xxmaj where : xxmaj xxunk xxmaj stadium xxmaj when : 7 p.m. &lt; br &gt; xxmaj shooting for 3 - 0 : xxmaj navy is off to its first 2 - 0 start since 1996 . xxmaj the xxmaj midshipmen have n't started 3 - 0 since 1979 , when they won their first six games and finished 7 - 4 . xxmaj navy has started 3 - 0 only twice in the past 40 years -- the 1978 team won its first seven games . xxmaj tulsa , which improved from 1 - 11 in 2002 to 8 - 5 last season , the best turnaround in college football , has lost its first two games , 21 - 3 at xxmaj kansas and 38 - 21 at</td>\n",
       "      <td>2</td>\n",
       "      <td>2</td>\n",
       "    </tr>\n",
       "    <tr>\n",
       "      <th>1</th>\n",
       "      <td>xxbos xxfld 1 xxmaj munch xxmaj theft xxmaj focuses on xxmaj museum xxmaj security xxfld 2 xxup oslo , xxmaj norway - xxmaj the brazen daylight theft of xxmaj edvard xxmaj munch 's renowned masterpiece \" the xxmaj scream \" left xxmaj norway 's police scrambling for clues and stirred a debate across xxmaj europe over how to protect art if thieves are willing to use deadly force to take it . xxmaj some expressed fears that works of art are in increasing danger from violent raids - unless , as xxmaj norway 's deputy culture minister put it , \" we lock them in a mountain bunker . \" xxmaj armed , masked robbers stormed into xxmaj oslo 's xxmaj munch xxmaj museum in broad daylight on xxmaj sunday , threatening an employee with a gun and terrifying patrons before they made off with a version of xxmaj munch</td>\n",
       "      <td>1</td>\n",
       "      <td>1</td>\n",
       "    </tr>\n",
       "    <tr>\n",
       "      <th>2</th>\n",
       "      <td>xxbos xxfld 1 xxup xxunk xxmaj lands xxup faa xxmaj conversations xxfld 2 \\ \" in response to its xxup xxunk request , xxup epic has received from the xxmaj federal xxmaj aviation \\ xxmaj administration ( faa ) transcripts ( pdf ) and audio recordings concerning the \\ request by the office of xxup us xxmaj house of xxmaj representatives xxmaj majority xxmaj leader xxmaj tom delay \\ ( r - tx ) to the xxup faa regarding the xxmaj may 2003 search for the plane owned by xxmaj texas \\ xxmaj state xxmaj representative xxmaj pete xxmaj xxunk ( tail xxmaj number xxup xxunk ) . \" \\ \" the xxmaj may 12 , 2003 audio recording of telephone conversations between the faa 's \\ xxmaj washington xxmaj operations xxmaj center and various xxup faa field employees clearly indicate \\ that the xxup faa employees were misled into</td>\n",
       "      <td>4</td>\n",
       "      <td>3</td>\n",
       "    </tr>\n",
       "    <tr>\n",
       "      <th>3</th>\n",
       "      <td>xxbos xxfld 1 mysql and xxup alter xxup table xxmaj guilty as xxmaj charged xxfld 2 \\ \\ xxmaj for the last few days xxmaj i 've been using xxunk xxup alter and xxup repair table \\ functionality and its caused tons of countless problems and a great deal of lost \\ sleep . \\ \\ xxmaj the first problem i noticed was that for large tables xxup alter xxup table was taking \\ hours ! xxmaj lets say you have a 30 g table . xxmaj good luck altering it as the default \\ mysql configuration will probably take 100 or more hours . \\ \\ xxmaj in xxunk defense there are a number of variables you can use to increase the \\ performance of an xxup alter but the problem is that the two major ones \\ ( xxunk , and xxunk ) ca n't be set at</td>\n",
       "      <td>4</td>\n",
       "      <td>4</td>\n",
       "    </tr>\n",
       "    <tr>\n",
       "      <th>4</th>\n",
       "      <td>xxbos xxfld 1 xxmaj tressel xxmaj trailed by xxmaj allegations xxfld 2 xxmaj oh , if only the biggest problems in xxmaj columbus , xxmaj ohio , were how the xxmaj buckeyes might get their running game going and beat xxmaj purdue today . xxmaj not so . xxmaj in a pair of stories -- one in xxup espn the xxmaj magazine , the other on espn.com -- xxmaj ohio xxmaj state xxmaj coach xxmaj jim xxmaj tressel was first accused by former star running back xxmaj maurice xxmaj clarett of helping him gain access to free cars and of hooking him up with boosters for cash payments . xxmaj the second story traced such scams back to xxmaj tressel 's days as the coach at xxmaj youngstown xxmaj state , in xxmaj clarett 's home town . xxmaj ohio xxmaj state 's response to xxmaj clarett : xxmaj he</td>\n",
       "      <td>2</td>\n",
       "      <td>2</td>\n",
       "    </tr>\n",
       "    <tr>\n",
       "      <th>5</th>\n",
       "      <td>xxbos xxfld 1 xxmaj skype dials up beta software for xxmaj mac xxup os x xxfld 2 xxmaj skype xxmaj technologies xxup sa , of xxmaj luxembourg , xxmaj tuesday released a beta version of its free xxmaj internet telephony software for xxmaj apple xxmaj computer xxmaj inc . 's xxmaj mac xxup os xxunk &gt; advertisement &lt; / p&gt;&lt;p&gt;&lt;img src=\"http : / / ad.doubleclick.net / ad / idg.us.ifw.general / ibmpseries;sz=1x1;ord=200301151450 ? \" width=\"1 \" height=\"1 \" border=\"0 \" / &gt; &lt; a href=\"http : / / ad.doubleclick.net / clk;9824455;9690404;u?http : / / ad.doubleclick.net / clk;9473681;9688522;d?http : / / xxrep 3 w .ibm.com / servers / eserver / pseries / campaigns / boardroom / index.html?ca=pseries met = boardroom me = e p_creative = p_infow_rss\"&gt;introducing xxup ibm eserver p5 systems . &lt; / a&gt;&lt;br / &gt; powered by ibms most advanced 64 - bit microprocessor ( power5(tm ) ) , p5</td>\n",
       "      <td>4</td>\n",
       "      <td>4</td>\n",
       "    </tr>\n",
       "  </tbody>\n",
       "</table>"
      ],
      "text/plain": [
       "<IPython.core.display.HTML object>"
      ]
     },
     "metadata": {},
     "output_type": "display_data"
    }
   ],
   "source": [
    "learn.show_results(max_n=6)"
   ]
  },
  {
   "cell_type": "markdown",
   "id": "207e317c-e420-4b50-88fb-560a26023dfe",
   "metadata": {},
   "source": [
    "## Pushing Accuracy Further\n",
    "Finally, we do a longer run of training to refine the classifier further:"
   ]
  },
  {
   "cell_type": "code",
   "execution_count": 25,
   "id": "0b6ce114-62be-4eac-967d-abd527f03223",
   "metadata": {
    "tags": []
   },
   "outputs": [
    {
     "data": {
      "text/html": [
       "\n",
       "<style>\n",
       "    /* Turns off some styling */\n",
       "    progress {\n",
       "        /* gets rid of default border in Firefox and Opera. */\n",
       "        border: none;\n",
       "        /* Needs to be in here for Safari polyfill so background images work as expected. */\n",
       "        background-size: auto;\n",
       "    }\n",
       "    progress:not([value]), progress:not([value])::-webkit-progress-bar {\n",
       "        background: repeating-linear-gradient(45deg, #7e7e7e, #7e7e7e 10px, #5c5c5c 10px, #5c5c5c 20px);\n",
       "    }\n",
       "    .progress-bar-interrupted, .progress-bar-interrupted::-webkit-progress-bar {\n",
       "        background: #F44336;\n",
       "    }\n",
       "</style>\n"
      ],
      "text/plain": [
       "<IPython.core.display.HTML object>"
      ]
     },
     "metadata": {},
     "output_type": "display_data"
    },
    {
     "data": {
      "text/html": [
       "<table border=\"1\" class=\"dataframe\">\n",
       "  <thead>\n",
       "    <tr style=\"text-align: left;\">\n",
       "      <th>epoch</th>\n",
       "      <th>train_loss</th>\n",
       "      <th>valid_loss</th>\n",
       "      <th>accuracy</th>\n",
       "      <th>perplexity</th>\n",
       "      <th>time</th>\n",
       "    </tr>\n",
       "  </thead>\n",
       "  <tbody>\n",
       "    <tr>\n",
       "      <td>0</td>\n",
       "      <td>0.519692</td>\n",
       "      <td>0.277178</td>\n",
       "      <td>0.916292</td>\n",
       "      <td>1.319401</td>\n",
       "      <td>03:42</td>\n",
       "    </tr>\n",
       "    <tr>\n",
       "      <td>1</td>\n",
       "      <td>0.410583</td>\n",
       "      <td>0.252542</td>\n",
       "      <td>0.920333</td>\n",
       "      <td>1.287294</td>\n",
       "      <td>03:42</td>\n",
       "    </tr>\n",
       "    <tr>\n",
       "      <td>2</td>\n",
       "      <td>0.382233</td>\n",
       "      <td>0.247313</td>\n",
       "      <td>0.924000</td>\n",
       "      <td>1.280580</td>\n",
       "      <td>03:41</td>\n",
       "    </tr>\n",
       "    <tr>\n",
       "      <td>3</td>\n",
       "      <td>0.346298</td>\n",
       "      <td>0.247176</td>\n",
       "      <td>0.924750</td>\n",
       "      <td>1.280404</td>\n",
       "      <td>03:42</td>\n",
       "    </tr>\n",
       "    <tr>\n",
       "      <td>4</td>\n",
       "      <td>0.317382</td>\n",
       "      <td>0.251329</td>\n",
       "      <td>0.926708</td>\n",
       "      <td>1.285733</td>\n",
       "      <td>03:42</td>\n",
       "    </tr>\n",
       "    <tr>\n",
       "      <td>5</td>\n",
       "      <td>0.293783</td>\n",
       "      <td>0.269677</td>\n",
       "      <td>0.925250</td>\n",
       "      <td>1.309541</td>\n",
       "      <td>03:42</td>\n",
       "    </tr>\n",
       "    <tr>\n",
       "      <td>6</td>\n",
       "      <td>0.278939</td>\n",
       "      <td>0.263954</td>\n",
       "      <td>0.929875</td>\n",
       "      <td>1.302068</td>\n",
       "      <td>03:42</td>\n",
       "    </tr>\n",
       "    <tr>\n",
       "      <td>7</td>\n",
       "      <td>0.266410</td>\n",
       "      <td>0.263146</td>\n",
       "      <td>0.931000</td>\n",
       "      <td>1.301017</td>\n",
       "      <td>03:42</td>\n",
       "    </tr>\n",
       "    <tr>\n",
       "      <td>8</td>\n",
       "      <td>0.259386</td>\n",
       "      <td>0.274693</td>\n",
       "      <td>0.932625</td>\n",
       "      <td>1.316127</td>\n",
       "      <td>03:41</td>\n",
       "    </tr>\n",
       "    <tr>\n",
       "      <td>9</td>\n",
       "      <td>0.272189</td>\n",
       "      <td>0.277544</td>\n",
       "      <td>0.935833</td>\n",
       "      <td>1.319884</td>\n",
       "      <td>03:42</td>\n",
       "    </tr>\n",
       "    <tr>\n",
       "      <td>10</td>\n",
       "      <td>0.295776</td>\n",
       "      <td>0.298814</td>\n",
       "      <td>0.933667</td>\n",
       "      <td>1.348259</td>\n",
       "      <td>03:42</td>\n",
       "    </tr>\n",
       "    <tr>\n",
       "      <td>11</td>\n",
       "      <td>0.274800</td>\n",
       "      <td>0.292780</td>\n",
       "      <td>0.934333</td>\n",
       "      <td>1.340148</td>\n",
       "      <td>03:42</td>\n",
       "    </tr>\n",
       "  </tbody>\n",
       "</table>"
      ],
      "text/plain": [
       "<IPython.core.display.HTML object>"
      ]
     },
     "metadata": {},
     "output_type": "display_data"
    }
   ],
   "source": [
    "learn.fit_one_cycle(12, slice(1e-3/(2.6**4),1e-3))"
   ]
  },
  {
   "cell_type": "markdown",
   "id": "7dc53de1-7686-4b03-a051-7d5e9f3e52d4",
   "metadata": {},
   "source": [
    "This is typically where you might pick up a few extra percentage points of accuracy. \n",
    "\n",
    "In order to achieve State of the Art Results, we could continue onward now to also do a forward-backward ensemble approach. This involves training the model on reversed text, and making predictions based on an ensemble of the forward-trained model with the backward-trained model. For now we'll leave that to a future blog post.\n",
    "\n",
    "# Conclusion\n",
    "By the end of this process, we have:\n",
    "\n",
    "* Fine-Tuned LM: A Wikipedia-trained language model adapted to the style of AG News articles.\n",
    "* Classifier: A high-accuracy predictor that classifies new articles into four categories (World, Sports, Business, Sci/Tech).\n",
    "\n",
    "This approach demonstrates the power of ULMFiT: by starting with a large generic language model, then carefully fine-tuning and unfreezing layers in stages, we leverage knowledge learned from Wikipedia, quickly adapt to AG News, and produce a high quality text classifier with relatively little data.\n",
    "\n",
    "In short, it’s another testament to the idea that modern deep learning thrives on cleverly transferring prior knowledge. That’s how we build language-savvy systems with fewer resources and in less time—exactly the kind of practical magic that industry researchers love to see in action!\n",
    "\n",
    "Go forth and classify the news (and beyond)."
   ]
  }
 ],
 "metadata": {
  "kernelspec": {
   "display_name": "Python 3 (ipykernel)",
   "language": "python",
   "name": "python3"
  },
  "language_info": {
   "codemirror_mode": {
    "name": "ipython",
    "version": 3
   },
   "file_extension": ".py",
   "mimetype": "text/x-python",
   "name": "python",
   "nbconvert_exporter": "python",
   "pygments_lexer": "ipython3",
   "version": "3.9.13"
  }
 },
 "nbformat": 4,
 "nbformat_minor": 5
}
