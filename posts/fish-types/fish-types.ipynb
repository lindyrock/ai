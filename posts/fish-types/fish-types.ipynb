{
 "cells": [
  {
   "cell_type": "markdown",
   "id": "c8f50e1f-b1f2-4a40-892a-775d95c3efe7",
   "metadata": {},
   "source": [
    "Run this notebook with the fastbook mamba environment."
   ]
  },
  {
   "cell_type": "code",
   "execution_count": 21,
   "id": "f59dec91-37c9-4020-b72c-64dcb8e733e1",
   "metadata": {},
   "outputs": [],
   "source": [
    "from fastai.vision.widgets import *\n",
    "from fastai.vision.core import *\n",
    "from fastbook import *"
   ]
  },
  {
   "cell_type": "code",
   "execution_count": 19,
   "id": "f654c685-45d2-475a-a261-57cf36b63eaa",
   "metadata": {},
   "outputs": [],
   "source": [
    "btn_upload = widgets.FileUpload()\n",
    "btn_run = widgets.Button(description='Classify')\n",
    "out_pl = widgets.Output()\n",
    "lbl_pred = widgets.Label()\n",
    "\n",
    "learn_inf = load_learner('export.pkl')\n",
    "\n",
    "def on_click_classify(change):\n",
    "    out_pl.clear_output()\n",
    "    img = PILImage.create(btn_upload.value[0].content.tobytes())\n",
    "    with out_pl: display(img.to_thumb(128,128))\n",
    "    pred, pred_idx, probs = learn_inf.predict(img)\n",
    "    lbl_pred.value = f'Prediction: {pred}; Probability: {probs[pred_idx]:.04f}'\n",
    "\n",
    "btn_run.on_click(on_click_classify)"
   ]
  },
  {
   "cell_type": "code",
   "execution_count": 20,
   "id": "45a6b7e7-0ffc-4590-aa4b-0112f4411f56",
   "metadata": {},
   "outputs": [
    {
     "data": {
      "application/vnd.jupyter.widget-view+json": {
       "model_id": "25756412354d4e4691c140a2e8479dc8",
       "version_major": 2,
       "version_minor": 0
      },
      "text/plain": [
       "VBox(children=(Label(value='Select your fish!'), FileUpload(value=({'name': 'angelfish.jpg', 'type': 'image/jp…"
      ]
     },
     "execution_count": 20,
     "metadata": {},
     "output_type": "execute_result"
    }
   ],
   "source": [
    "VBox([widgets.Label('Select your fish!'),\n",
    "      btn_upload, btn_run, out_pl, lbl_pred])"
   ]
  },
  {
   "cell_type": "code",
   "execution_count": null,
   "id": "86a97aa1-9a04-43da-bd01-2afd1cf1c02a",
   "metadata": {},
   "outputs": [],
   "source": []
  }
 ],
 "metadata": {
  "kernelspec": {
   "display_name": "Python 3 (ipykernel)",
   "language": "python",
   "name": "python3"
  },
  "language_info": {
   "codemirror_mode": {
    "name": "ipython",
    "version": 3
   },
   "file_extension": ".py",
   "mimetype": "text/x-python",
   "name": "python",
   "nbconvert_exporter": "python",
   "pygments_lexer": "ipython3",
   "version": "3.9.13"
  }
 },
 "nbformat": 4,
 "nbformat_minor": 5
}
