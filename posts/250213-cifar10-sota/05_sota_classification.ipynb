{
 "cells": [
  {
   "cell_type": "raw",
   "id": "70f77b1c",
   "metadata": {
    "vscode": {
     "languageId": "raw"
    }
   },
   "source": [
    "---\n",
    "title: \"Surpassing the Leaderboard: Building a #1 Ranking ResNet-18 on CIFAR-10\"\n",
    "author: \"Lindy Rauchenstein\"\n",
    "date: \"2025-02-13\"\n",
    "categories: [news, code]\n",
    "image: \"cifar.png\"\n",
    "toc: true\n",
    "warning: false\n",
    "format:\n",
    "  html:\n",
    "    code-fold: false\n",
    "---"
   ]
  },
  {
   "cell_type": "markdown",
   "id": "f6be8f4a",
   "metadata": {
    "vscode": {
     "languageId": "raw"
    }
   },
   "source": [
    "Today, I want to show you how to take on the classic CIFAR-10 image classification problem and outmaneuver the top-published ResNet-18 models on the Papers with Code Leaderboard. CIFAR-10 is a widely beloved dataset of 32×32 color images across ten classes (cats, dogs, frogs, ships, airplanes, etc.). Because of its modest size, it’s a perfect playground to mix and match advanced tricks—and see how far we can push a standard ResNet-18.\n",
    "\n",
    "Let's roll up our sleeves and not be afraid to experiment. We'll do a bit of \"what if\" poking around until we find the best approach. By the end, you’ll see how easy it is to break new ground with the right techniques."
   ]
  },
  {
   "cell_type": "markdown",
   "id": "3b096fb7-f92e-47a8-9675-024e4214cb71",
   "metadata": {},
   "source": [
    "# Create a smaller prototyping dataset from CIFAR10\n",
    "First, we’ll set up a smaller subset of the training set— about 20%— to make our experiments faster. Whenever I experiment, I want the iterative process to be quick, so I reduce the dataset for prototyping. I shoot for somethign that can train an epoch in less than 30 seconds on my machine."
   ]
  },
  {
   "cell_type": "code",
   "execution_count": null,
   "id": "a4616bbc-742f-45f9-8909-44704f0cce51",
   "metadata": {},
   "outputs": [],
   "source": [
    "from fastai.vision.all import *\n",
    "\n",
    "path = untar_data(URLs.CIFAR)\n",
    "\n",
    "def get_20pct_files(path):\n",
    "    \"Return a random 20% subset of image files from the given path.\"\n",
    "    files = get_image_files(path)\n",
    "    # Set the seed for reproducibility\n",
    "    random.seed(42)\n",
    "    random.shuffle(files)\n",
    "    subset_count = int(len(files) * 0.2)\n",
    "    return files[:subset_count]\n",
    "\n",
    "path.ls()"
   ]
  },
  {
   "cell_type": "markdown",
   "id": "1b171945-f78e-4431-a8d2-70d7cc4320a0",
   "metadata": {},
   "source": [
    "Above, we untar the CIFAR-10 dataset and define a helper function that picks 20% of the images. By setting a seed, we keep the subset consistent across runs.\n",
    "\n",
    "## Inspect the dataset\n",
    "Here, we’ll look at the images, do some basic transformations (random augmentations, normalization, resizing), and then check that our data is normalized around zero mean and unit standard deviation. This normalizing step is typically crucial to help models train consistently."
   ]
  },
  {
   "cell_type": "code",
   "execution_count": 2,
   "id": "9fb95f77-9fad-4572-bc09-a464bcda4f38",
   "metadata": {},
   "outputs": [],
   "source": [
    "dblock = DataBlock(blocks=(ImageBlock, CategoryBlock),\n",
    "                   get_items=get_20pct_files,\n",
    "                   get_y=parent_label,\n",
    "                   splitter=RandomSplitter(valid_pct=0.2, seed=42),\n",
    "                   batch_tfms=[*aug_transforms(size=24, min_scale=0.75),\n",
    "                               Normalize.from_stats(*cifar_stats)])"
   ]
  },
  {
   "cell_type": "code",
   "execution_count": 3,
   "id": "e1862e52-ac10-495f-b5e9-8c81135ed16f",
   "metadata": {
    "tags": []
   },
   "outputs": [],
   "source": [
    "dls = dblock.dataloaders(path/'train', bs=512, seed=42)"
   ]
  },
  {
   "cell_type": "markdown",
   "id": "4a9cc019",
   "metadata": {},
   "source": [
    "We then do a quick mean/std check: if the mean is close to zero and std is close to one, we know our normalization is in good shape."
   ]
  },
  {
   "cell_type": "code",
   "execution_count": 4,
   "id": "7fa3ebbc-6114-4062-9257-ee88566607cd",
   "metadata": {},
   "outputs": [
    {
     "data": {
      "text/plain": [
       "(TensorImage([ 0.0049, -0.0181, -0.0277], device='cuda:0'),\n",
       " TensorImage([0.9488, 0.9568, 0.9518], device='cuda:0'))"
      ]
     },
     "execution_count": 4,
     "metadata": {},
     "output_type": "execute_result"
    }
   ],
   "source": [
    "x,y = dls.one_batch()\n",
    "x.mean(dim=[0,2,3]),x.std(dim=[0,2,3])"
   ]
  },
  {
   "cell_type": "markdown",
   "id": "482e07c8",
   "metadata": {},
   "source": [
    "## Helper Functions for DataLoaders\n",
    "We’ll define a few variants of get_dls(...) so we can try different transformations quickly—sometimes with normalization, sometimes without, sometimes with more or fewer augmentations."
   ]
  },
  {
   "cell_type": "code",
   "execution_count": null,
   "id": "95054fa3-3f36-40a2-b3bc-e7da5b1e4ce0",
   "metadata": {},
   "outputs": [],
   "source": [
    "#| code-fold: true\n",
    "\n",
    "def get_dls(bs, size, aug_size):\n",
    "    dblock = DataBlock(blocks=(ImageBlock, CategoryBlock),\n",
    "                   get_items=get_20pct_files,\n",
    "                   get_y=parent_label,\n",
    "                   splitter=RandomSplitter(valid_pct=0.2, seed=42),\n",
    "                   item_tfms=Resize(size),\n",
    "                   batch_tfms=[*aug_transforms(size=aug_size, min_scale=0.75),\n",
    "                               Normalize.from_stats(*cifar_stats)])\n",
    "    return dblock.dataloaders(path/'train', bs=bs, seed=42)\n",
    "\n",
    "def get_dls_no_norm(bs, size, aug_size):\n",
    "    dblock = DataBlock(blocks=(ImageBlock, CategoryBlock),\n",
    "                       get_items=get_20pct_files,\n",
    "                       get_y=parent_label,\n",
    "                       splitter=RandomSplitter(valid_pct=0.2, seed=42),\n",
    "                       item_tfms=Resize(size),\n",
    "                       batch_tfms=aug_transforms(size=aug_size, min_scale=0.75))\n",
    "    return dblock.dataloaders(path/'train', bs=bs, seed=42)\n",
    "\n",
    "def get_dls_no_norm_no_aug(bs, size):\n",
    "    dblock = DataBlock(blocks=(ImageBlock, CategoryBlock),\n",
    "                       get_items=get_20pct_files,\n",
    "                       get_y=parent_label,\n",
    "                       splitter=RandomSplitter(valid_pct=0.2, seed=42),\n",
    "                       item_tfms=Resize(size))\n",
    "    return dblock.dataloaders(path/'train', bs=bs, seed=42)\n",
    "\n",
    "def get_dls_no_aug(bs, size):\n",
    "    dblock = DataBlock(blocks=(ImageBlock, CategoryBlock),\n",
    "                       get_items=get_20pct_files,\n",
    "                       get_y=parent_label,\n",
    "                       splitter=RandomSplitter(valid_pct=0.2, seed=42),\n",
    "                       item_tfms=Resize(size),\n",
    "                       batch_tfms=Normalize.from_stats(*cifar_stats))\n",
    "    return dblock.dataloaders(path/'train', bs=bs, seed=42)"
   ]
  },
  {
   "cell_type": "markdown",
   "id": "3fbdc262",
   "metadata": {},
   "source": [
    "Looking at a batch of CIFAR-10 data, you see it's 32x32 pixel color images. Many of these are hard for *me* to pick a label for, so a 96% success rate by the model might even outperform my human capability."
   ]
  },
  {
   "cell_type": "code",
   "execution_count": null,
   "id": "dad4c617-50d1-4716-872e-afc2389f0c6b",
   "metadata": {},
   "outputs": [
    {
     "data": {
      "image/png": "[encoded data removed]",
      "text/plain": [
       "<Figure size 864x648 with 12 Axes>"
      ]
     },
     "metadata": {
      "needs_background": "light"
     },
     "output_type": "display_data"
    }
   ],
   "source": [
    "dls.valid.show_batch(max_n=12, nrows=3, ncols=4)"
   ]
  },
  {
   "cell_type": "code",
   "execution_count": 7,
   "id": "5ed3d3cb-7ea8-41c4-94c9-3ea390e62630",
   "metadata": {},
   "outputs": [
    {
     "data": {
      "text/plain": [
       "(torch.Size([512, 3, 24, 24]), torch.Size([512]))"
      ]
     },
     "execution_count": 7,
     "metadata": {},
     "output_type": "execute_result"
    }
   ],
   "source": [
    "xb,yb = dls.one_batch()\n",
    "xb.shape,yb.shape"
   ]
  },
  {
   "cell_type": "markdown",
   "id": "5ed55f2c-3c88-44cf-840f-5c86ab9b8f32",
   "metadata": {},
   "source": [
    "# Train a Learner"
   ]
  },
  {
   "cell_type": "markdown",
   "id": "cb720d4f",
   "metadata": {},
   "source": [
    "Now we dive into the heart of the matter: training. We’ll experiment with an off-the-shelf resnet18 from fastai, typically a decent baseline. Then we’ll systematically improve it. We see that by default, the loss is cross-entropy, and the optimizer is Adam. Perfect."
   ]
  },
  {
   "cell_type": "code",
   "execution_count": null,
   "id": "7781168a-b327-4c40-b72d-6e4be353b951",
   "metadata": {},
   "outputs": [],
   "source": [
    "learn = vision_learner(dls, resnet18, pretrained=False, metrics=accuracy)"
   ]
  },
  {
   "cell_type": "code",
   "execution_count": 56,
   "id": "4773dc2a-f12c-417c-893e-d805c36b7080",
   "metadata": {},
   "outputs": [
    {
     "data": {
      "text/plain": [
       "(FlattenedLoss of CrossEntropyLoss(),\n",
       " <function fastai.optimizer.Adam(params, lr, mom=0.9, sqr_mom=0.99, eps=1e-05, wd=0.01, decouple_wd=True)>)"
      ]
     },
     "execution_count": 56,
     "metadata": {},
     "output_type": "execute_result"
    }
   ],
   "source": [
    "learn.loss_func, learn.opt_func"
   ]
  },
  {
   "cell_type": "markdown",
   "id": "43b709a0-b016-48f0-a7fb-8f29fef8d1d7",
   "metadata": {},
   "source": [
    "## Baseline Model\n",
    "47.8% Accuracy\n",
    "\n",
    "Here’s our baseline training—no fancy bells or whistles, just to see where we stand. I’ll show the code; normally we’d let it run and check the final accuracy. a"
   ]
  },
  {
   "cell_type": "code",
   "execution_count": null,
   "id": "fa3fdafc-0b8a-491d-a7de-35cea867c4fc",
   "metadata": {
    "collapsed": true,
    "jupyter": {
     "outputs_hidden": true
    },
    "tags": []
   },
   "outputs": [],
   "source": [
    "# Baseline Model\n",
    "n_epochs=32\n",
    "learn.fit(n_epochs)"
   ]
  },
  {
   "cell_type": "markdown",
   "id": "8d364cd8",
   "metadata": {},
   "source": [
    "The baseline might hover around 47–50% accuracy. That’s a simple reference point—like measuring the “un-augmented\" skill of the model. We’ll now run a bunch of experiments, each time reloading the data with different transforms or training hyperparameters, and noting the final accuracy. (I’ve trimmed the epoch-by-epoch logs for brevity.)"
   ]
  },
  {
   "cell_type": "markdown",
   "id": "c180b24b-80d5-43e0-bc24-e2cdb3b12ead",
   "metadata": {},
   "source": [
    "## Model Experiments\n",
    "Leader: Model D2\n",
    "\n",
    "Accuracy: 93.6%"
   ]
  },
  {
   "cell_type": "markdown",
   "id": "6da8f1b4-d4b3-4f42-ac16-2f3c5060f1a2",
   "metadata": {
    "jp-MarkdownHeadingCollapsed": true,
    "tags": []
   },
   "source": [
    "### Model Z - Original size, resnet18\n",
    "Accuracy ~ 65.6%. Just by using original 32×32 images with minimal augmentation, we get about two-thirds accuracy."
   ]
  },
  {
   "cell_type": "code",
   "execution_count": null,
   "id": "aa2bef53-c8f6-48f3-93c4-6446289b86b8",
   "metadata": {},
   "outputs": [],
   "source": [
    "# Model Z\n",
    "dls = get_dls(512, 32, 24)\n",
    "learn = vision_learner(dls, resnet18, metrics=accuracy)\n",
    "learn.fine_tune(10, base_lr=2e-2, freeze_epochs=3)"
   ]
  },
  {
   "cell_type": "markdown",
   "id": "17bcb92c-f112-42c2-98e4-d70d8a2c0585",
   "metadata": {
    "jp-MarkdownHeadingCollapsed": true,
    "tags": []
   },
   "source": [
    "### Model Z2 - Original size, smaller bs, resnet18\n",
    "Accuracy ~ 70.9%. Smaller batch sizes sometimes help or hurt, depending on GPU memory or other hyperparameter interactions. We get a boost here."
   ]
  },
  {
   "cell_type": "code",
   "execution_count": null,
   "id": "eb8bd1c6-505a-4224-ab15-25f651600c98",
   "metadata": {},
   "outputs": [],
   "source": [
    "# Model Z2\n",
    "dls = get_dls(64, 32, 24)\n",
    "learn = vision_learner(dls, resnet18, metrics=accuracy)\n",
    "learn.fine_tune(10, base_lr=2e-2, freeze_epochs=3)"
   ]
  },
  {
   "cell_type": "markdown",
   "id": "afd20be4-5ddf-490f-a111-18d83db1a137",
   "metadata": {
    "jp-MarkdownHeadingCollapsed": true,
    "tags": []
   },
   "source": [
    "### Model A - Size 128, resnet18, small bs\n",
    "We scale images to 128×128, do a bit more augmentation, and see what happens:\n",
    "\n",
    "Accuracy ~ 91.3%. A big jump—resizing those tiny CIFAR-10 images to 128×128 and applying more data augmentation helps the model see more varied data."
   ]
  },
  {
   "cell_type": "code",
   "execution_count": null,
   "id": "44e11601-f9e8-4379-9e93-90c0994bac03",
   "metadata": {},
   "outputs": [],
   "source": [
    "## Model A\n",
    "dls = get_dls(64, 128, 96)\n",
    "learn = vision_learner(dls, resnet18, metrics=accuracy)\n",
    "lr = learn.lr_find()"
   ]
  },
  {
   "cell_type": "code",
   "execution_count": null,
   "id": "e85e2ec6-2890-4c40-a71c-a07ce971ec83",
   "metadata": {
    "tags": []
   },
   "outputs": [],
   "source": [
    "lr = 3e-3\n",
    "n_epochs = 32\n",
    "learn = vision_learner(dls, resnet18, metrics=accuracy)\n",
    "learn.fine_tune(n_epochs, base_lr=lr)"
   ]
  },
  {
   "cell_type": "markdown",
   "id": "331bfd86-9f3e-49f5-a99d-a1685da6d9bc",
   "metadata": {
    "jp-MarkdownHeadingCollapsed": true,
    "tags": []
   },
   "source": [
    "### Model A2 - Size 128, resnet18, small bs, more freeze_epochs\n",
    "Accuracy ~ 90.9%. Freezing the early layers a bit longer sometimes changes the final outcome. In this run, it’s slightly less than 91.3%."
   ]
  },
  {
   "cell_type": "code",
   "execution_count": null,
   "id": "8f250ecc-378f-4e0d-90aa-8092f88473a7",
   "metadata": {},
   "outputs": [],
   "source": [
    "# Model A2\n",
    "dls = get_dls(64, 128, 96)\n",
    "learn = vision_learner(dls, resnet18, metrics=accuracy)\n",
    "lr = 3e-3\n",
    "n_epochs = 32\n",
    "learn.fine_tune(n_epochs, base_lr=lr, freeze_epochs=3)"
   ]
  },
  {
   "cell_type": "markdown",
   "id": "66c2b7a3-6b8d-4dcb-80ce-d6832a897be9",
   "metadata": {
    "jp-MarkdownHeadingCollapsed": true,
    "tags": []
   },
   "source": [
    "### Model B- Size 128, resnet18, small bs, no norm\n",
    "No normalization to see how important standardizing the data might be. Accuracy ~ 90.2%. Still respectable, but generally standardization is beneficial.\n"
   ]
  },
  {
   "cell_type": "code",
   "execution_count": null,
   "id": "63341fab-3814-4451-a7b2-1a2f5f1a6b3e",
   "metadata": {
    "tags": []
   },
   "outputs": [],
   "source": [
    "# Model B\n",
    "dls = get_dls_no_norm(64, 128, 96)\n",
    "learn = vision_learner(dls, resnet18, metrics=accuracy)\n",
    "#learn.lr_find()"
   ]
  },
  {
   "cell_type": "code",
   "execution_count": null,
   "id": "ea8f20f9-41d3-45bc-997d-ecc06c82beb3",
   "metadata": {
    "tags": []
   },
   "outputs": [],
   "source": [
    "lr = 3e-3\n",
    "n_epochs = 32\n",
    "learn = vision_learner(dls, resnet18, metrics=accuracy)\n",
    "learn.fine_tune(n_epochs, base_lr=lr)"
   ]
  },
  {
   "cell_type": "markdown",
   "id": "892e8f96-e065-4ca1-bd64-1156c58ce612",
   "metadata": {
    "jp-MarkdownHeadingCollapsed": true,
    "tags": []
   },
   "source": [
    "### Model C- Size 128, resnet18, small bs, no aug\n",
    "Accuracy ~ 91.0%. So even with no random augmentations (but still normalized), we break 90%."
   ]
  },
  {
   "cell_type": "code",
   "execution_count": null,
   "id": "733ed54d-d041-4358-b159-a62f03a9c46e",
   "metadata": {
    "tags": []
   },
   "outputs": [],
   "source": [
    "# Model C\n",
    "dls = get_dls_no_aug(64, 128)\n",
    "learn = vision_learner(dls, resnet18, metrics=accuracy)\n",
    "learn.lr_find()"
   ]
  },
  {
   "cell_type": "code",
   "execution_count": null,
   "id": "c1b3053e-5022-4fcf-8303-cbb09063bfb1",
   "metadata": {},
   "outputs": [],
   "source": [
    "lr = 3e-3\n",
    "n_epochs = 32\n",
    "learn = vision_learner(dls, resnet18, metrics=accuracy)\n",
    "learn.fine_tune(n_epochs, base_lr=lr)"
   ]
  },
  {
   "cell_type": "markdown",
   "id": "0b0a327b-782a-4df1-91a3-573e5224893c",
   "metadata": {
    "jp-MarkdownHeadingCollapsed": true,
    "tags": []
   },
   "source": [
    "### Model C3- Size 256, resnet18, small bs\n",
    "Let’s go bigger still—256×256. With bigger images, the model sees more details: Accuracy: 92.0%"
   ]
  },
  {
   "cell_type": "code",
   "execution_count": null,
   "id": "c137bdf6-133b-4e37-b840-8ab71d9615f0",
   "metadata": {},
   "outputs": [],
   "source": [
    "# Model C3\n",
    "dls = get_dls(64, 256, 196)\n",
    "learn = vision_learner(dls, resnet18, metrics=accuracy)\n",
    "lr = learn.lr_find()"
   ]
  },
  {
   "cell_type": "code",
   "execution_count": null,
   "id": "ff26ba8b-f2a9-4270-a6ef-fe6f5db5b771",
   "metadata": {},
   "outputs": [],
   "source": [
    "lr = 3e-3\n",
    "n_epochs = 32\n",
    "learn = vision_learner(dls, resnet18, metrics=accuracy)\n",
    "learn.fine_tune(n_epochs, base_lr=lr)"
   ]
  },
  {
   "cell_type": "markdown",
   "id": "c1520a7e-7e89-4660-860c-ac2122f66eaf",
   "metadata": {
    "jp-MarkdownHeadingCollapsed": true,
    "tags": []
   },
   "source": [
    "### Model D - Mixup and Label Smoothing\n",
    "Accuracy ~ 93.5%. This is a hefty leap.\n",
    "\n",
    "Two powerful techniques:\n",
    "\n",
    "MixUp: randomly blends two images and their labels, forcing the model not to rely on too-literal image cues.\n",
    "Label Smoothing: slightly softens the one-hot labels, mitigating overconfidence."
   ]
  },
  {
   "cell_type": "code",
   "execution_count": null,
   "id": "15a62709-e1ea-49ff-a949-0f8a604b6b25",
   "metadata": {
    "tags": []
   },
   "outputs": [],
   "source": [
    "# Model D - Mixup and Label Smoothing\n",
    "dls = get_dls(64, 256, 196)\n",
    "learn = vision_learner(dls, resnet18, metrics=accuracy)\n",
    "learn.lr_find()"
   ]
  },
  {
   "cell_type": "code",
   "execution_count": null,
   "id": "b2a8e2c1-433b-41ee-9c37-b1ee586628d8",
   "metadata": {
    "tags": []
   },
   "outputs": [],
   "source": [
    "lr=3e-3\n",
    "n_epochs=32\n",
    "learn = vision_learner(dls, resnet18, loss_func=LabelSmoothingCrossEntropy(),\n",
    "                metrics=accuracy, cbs=MixUp())\n",
    "learn.fine_tune(n_epochs, base_lr=lr)"
   ]
  },
  {
   "cell_type": "markdown",
   "id": "e6fdf2cc-dcd0-4d63-bb3d-4253fa4d4ddc",
   "metadata": {
    "jp-MarkdownHeadingCollapsed": true,
    "tags": []
   },
   "source": [
    "### Model E0 - Progressive Resizing\n",
    "\n",
    "Accuracy: 90.0%\n",
    "\n",
    "We train first on smaller images, then gradually increase their size. This can help if you’re using a pretrained model so it first learns broad features, then refines them with bigger images. But on CIFAR-10, which is already small, it’s not always beneficial.\n"
   ]
  },
  {
   "cell_type": "code",
   "execution_count": null,
   "id": "cc305fa3-db5b-42bc-ac09-66804e09a93c",
   "metadata": {
    "collapsed": true,
    "jupyter": {
     "outputs_hidden": true
    },
    "tags": []
   },
   "outputs": [],
   "source": [
    "# Model E0 - Progressive Resizing\n",
    "n_epochs = 16\n",
    "lr = 3e-3\n",
    "\n",
    "dls = get_dls(64, 128, 96)\n",
    "learn = vision_learner(dls, resnet18, pretrained=False, loss_func=LabelSmoothingCrossEntropy(),\n",
    "                metrics=accuracy, cbs=MixUp())\n",
    "learn = vision_learner(dls, resnet18, metrics=accuracy)\n",
    "learn.fine_tune(n_epochs, base_lr=lr)\n",
    "\n",
    "learn.dls = get_dls(64, 256, 196)\n",
    "learn = vision_learner(dls, resnet18, metrics=accuracy)\n",
    "learn.fine_tune(n_epochs, base_lr=lr)"
   ]
  },
  {
   "cell_type": "markdown",
   "id": "37015c00-ab66-4365-9ef8-799fa8743276",
   "metadata": {
    "jp-MarkdownHeadingCollapsed": true,
    "tags": []
   },
   "source": [
    "### Model F- Discriminative Learning Rates\n",
    "Accuracy: 90.8%\n",
    "\n",
    "The idea: later layers can use higher learning rates while earlier, more general layers use a lower one. In fastai, we do this with a range (slice(lr/10, lr*10))."
   ]
  },
  {
   "cell_type": "code",
   "execution_count": 13,
   "id": "1390af66-6488-4b98-8f5b-7bef479c73ec",
   "metadata": {},
   "outputs": [],
   "source": [
    "# Model F\n",
    "lr=3e-3\n",
    "n_epochs=32\n",
    "dls = get_dls(64, 256, 196)\n",
    "learn = vision_learner(dls, resnet18, loss_func=LabelSmoothingCrossEntropy(),\n",
    "                metrics=accuracy, cbs=MixUp())\n",
    "learn.fit_one_cycle(1, lr_max=lr)\n",
    "learn.lr_find()"
   ]
  },
  {
   "cell_type": "code",
   "execution_count": null,
   "id": "887bae48-b5d1-4ed5-9957-29a19bf822fc",
   "metadata": {},
   "outputs": [],
   "source": [
    "lr=2e-3\n",
    "learn.fit_one_cycle(n_epochs, lr_max=slice(lr/10,lr*10))"
   ]
  },
  {
   "cell_type": "markdown",
   "id": "3ece2a12-708e-4b36-a1b5-afbc24e77f73",
   "metadata": {
    "jp-MarkdownHeadingCollapsed": true,
    "tags": []
   },
   "source": [
    "### Model D2- Mixup and Label Smoothing, Mixed Point Precision\n",
    "Accuracy: 93.6%\n",
    "\n",
    "We add one more trick: Mixed-precision training (a.k.a. fp16). It runs your forward/backward passes in half precision on the GPU, speeding things up and sometimes improving generalization."
   ]
  },
  {
   "cell_type": "code",
   "execution_count": null,
   "id": "5e955bfc-6f05-44e0-b96a-78460dd2a29f",
   "metadata": {},
   "outputs": [],
   "source": [
    "# Model D Mixed Point\n",
    "dls = get_dls(64, 256, 196)\n",
    "learn = vision_learner(dls, resnet18, metrics=accuracy)\n",
    "learn.lr_find()\n",
    "lr=3e-3\n",
    "n_epochs=32\n",
    "learn = vision_learner(dls, resnet18, loss_func=LabelSmoothingCrossEntropy(),\n",
    "                metrics=accuracy, cbs=MixUp()).to_fp16()\n",
    "learn.fine_tune(n_epochs, base_lr=lr)"
   ]
  },
  {
   "cell_type": "markdown",
   "id": "efa67481-d6e1-4247-9b8c-c21a0ab34e08",
   "metadata": {},
   "source": [
    "# Train the winning model on the full dataset\n",
    "All this time, we only tested on a 20% subset for speed. Once we identify that MixUp + Label Smoothing + fp16 (Model D2) is the best formula, we unleash it on the entire CIFAR-10 dataset. Let’s watch it climb higher:"
   ]
  },
  {
   "cell_type": "code",
   "execution_count": null,
   "id": "48c5fd31-1064-49bd-96c8-b0b6de07dd9e",
   "metadata": {},
   "outputs": [],
   "source": [
    "# Train the winning model on the full dataset\n",
    "\n",
    "def get_dls(bs, size, aug_size):\n",
    "    dblock = DataBlock(blocks=(ImageBlock, CategoryBlock),\n",
    "                   get_items=get_image_files,\n",
    "                   get_y=parent_label,\n",
    "                   splitter=RandomSplitter(valid_pct=0.2, seed=42),\n",
    "                   item_tfms=Resize(size),\n",
    "                   batch_tfms=[*aug_transforms(size=aug_size, min_scale=0.75),\n",
    "                               Normalize.from_stats(*cifar_stats)])\n",
    "    return dblock.dataloaders(path/'train', bs=bs, seed=42)\n",
    "\n",
    "# Model D - Mixup and Label Smoothing\n",
    "dls = get_dls(64, 256, 196)\n",
    "lr=3e-3\n",
    "n_epochs=100\n",
    "learn = vision_learner(dls, resnet18, loss_func=LabelSmoothingCrossEntropy(),\n",
    "                metrics=accuracy, cbs=MixUp()).to_fp16()\n",
    "learn.fine_tune(n_epochs, base_lr=lr)"
   ]
  },
  {
   "cell_type": "markdown",
   "id": "e4acd911",
   "metadata": {},
   "source": [
    "![](train-log-1.png)\n",
    "![](train-log-2.png)\n",
    "![](train-log-3.png)\n",
    "\n",
    "\n",
    "\n",
    "If you let it run all the way, you see an accuracy around 95.56%, which (as of this writing) beats the #1 ResNet-18 model on the Papers With Code leaderboard for CIFAR-10. That’s a big statement about how powerful these modern training tricks can be—even on a famously “solved” dataset like CIFAR-10. With test time augmentation, accuracy climbs even high, to 96.02%"
   ]
  },
  {
   "cell_type": "code",
   "execution_count": 4,
   "id": "1a16d6cf-f2d2-4408-a8a5-006e9e40e732",
   "metadata": {},
   "outputs": [
    {
     "data": {
      "text/html": [
       "\n",
       "<style>\n",
       "    /* Turns off some styling */\n",
       "    progress {\n",
       "        /* gets rid of default border in Firefox and Opera. */\n",
       "        border: none;\n",
       "        /* Needs to be in here for Safari polyfill so background images work as expected. */\n",
       "        background-size: auto;\n",
       "    }\n",
       "    progress:not([value]), progress:not([value])::-webkit-progress-bar {\n",
       "        background: repeating-linear-gradient(45deg, #7e7e7e, #7e7e7e 10px, #5c5c5c 10px, #5c5c5c 20px);\n",
       "    }\n",
       "    .progress-bar-interrupted, .progress-bar-interrupted::-webkit-progress-bar {\n",
       "        background: #F44336;\n",
       "    }\n",
       "</style>\n"
      ],
      "text/plain": [
       "<IPython.core.display.HTML object>"
      ]
     },
     "metadata": {},
     "output_type": "display_data"
    },
    {
     "data": {
      "text/html": [
       "\n",
       "    <div>\n",
       "      <progress value='0' class='' max='100' style='width:300px; height:20px; vertical-align: middle;'></progress>\n",
       "      \n",
       "    </div>\n",
       "    \n"
      ],
      "text/plain": [
       "<IPython.core.display.HTML object>"
      ]
     },
     "metadata": {},
     "output_type": "display_data"
    },
    {
     "data": {
      "text/html": [
       "\n",
       "<style>\n",
       "    /* Turns off some styling */\n",
       "    progress {\n",
       "        /* gets rid of default border in Firefox and Opera. */\n",
       "        border: none;\n",
       "        /* Needs to be in here for Safari polyfill so background images work as expected. */\n",
       "        background-size: auto;\n",
       "    }\n",
       "    progress:not([value]), progress:not([value])::-webkit-progress-bar {\n",
       "        background: repeating-linear-gradient(45deg, #7e7e7e, #7e7e7e 10px, #5c5c5c 10px, #5c5c5c 20px);\n",
       "    }\n",
       "    .progress-bar-interrupted, .progress-bar-interrupted::-webkit-progress-bar {\n",
       "        background: #F44336;\n",
       "    }\n",
       "</style>\n"
      ],
      "text/plain": [
       "<IPython.core.display.HTML object>"
      ]
     },
     "metadata": {},
     "output_type": "display_data"
    },
    {
     "data": {
      "text/html": [],
      "text/plain": [
       "<IPython.core.display.HTML object>"
      ]
     },
     "metadata": {},
     "output_type": "display_data"
    },
    {
     "data": {
      "text/plain": [
       "0.9602000117301941"
      ]
     },
     "execution_count": 4,
     "metadata": {},
     "output_type": "execute_result"
    }
   ],
   "source": [
    "# Apply Test Time Augmentation \n",
    "preds,targs = learn.tta()\n",
    "accuracy(preds, targs).item()"
   ]
  },
  {
   "cell_type": "markdown",
   "id": "c32025fc",
   "metadata": {},
   "source": [
    "# Conclusion\n",
    "The moral of this story is: be playful, combine known ideas (data augmentation, MixUp, Label Smoothing, bigger images, discriminative learning rates, and half-precision), and see if you can outdo the established baselines. Sometimes, you can surpass them just by mixing these techniques carefully!\n",
    "\n",
    "Happy experimenting—and remember, science is all about tweaking, testing, and delighting in the surprises you find along the way."
   ]
  }
 ],
 "metadata": {
  "kernelspec": {
   "display_name": "Python 3 (ipykernel)",
   "language": "python",
   "name": "python3"
  },
  "language_info": {
   "codemirror_mode": {
    "name": "ipython",
    "version": 3
   },
   "file_extension": ".py",
   "mimetype": "text/x-python",
   "name": "python",
   "nbconvert_exporter": "python",
   "pygments_lexer": "ipython3",
   "version": "3.9.13"
  }
 },
 "nbformat": 4,
 "nbformat_minor": 5
}
